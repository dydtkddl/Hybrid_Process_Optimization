version https://git-lfs.github.com/spec/v1
oid sha256:3a6c0a81b942b41f0bd5690ed57212d863eda39cd96e05563cc8569962fe0ee5
size 702577
